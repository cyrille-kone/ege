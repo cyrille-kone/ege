{
 "cells": [
  {
   "cell_type": "code",
   "execution_count": 2,
   "metadata": {
    "collapsed": true,
    "ExecuteTime": {
     "end_time": "2024-04-21T21:28:38.924119Z",
     "start_time": "2024-04-21T21:28:38.763035Z"
    }
   },
   "outputs": [
    {
     "name": "stdout",
     "output_type": "stream",
     "text": [
      "[complexity]:  3471.4590493370965\n",
      "[pareto set]:  [0, 9, 10, 11]\n"
     ]
    },
    {
     "data": {
      "text/plain": "<Figure size 640x480 with 1 Axes>",
      "image/png": "[encoded data removed]"
     },
     "metadata": {},
     "output_type": "display_data"
    }
   ],
   "source": [
    "# coding=utf-8\n",
    "import numpy as np\n",
    "import seaborn as sns\n",
    "import matplotlib.pyplot as plt\n",
    "from numpy.random import uniform\n",
    "from lib.bandits import Bernoulli, Gaussian\n",
    "from lib.policies import (py_ege_sr, py_ege_sh,\n",
    "                          py_ua, py_batch_ua,\n",
    "                          py_batch_sr, py_batch_sh)\n",
    "sns.set_style(\"white\")\n",
    "inf = 1e12\n",
    "H = inf; max_H = 5e3\n",
    "K = 12;  D = 2\n",
    "while H>max_H:\n",
    "  means = np.random.uniform(size=(K, D))\n",
    "  bandit = Bernoulli(means)#\n",
    "  H = bandit.H\n",
    "if D==2:\n",
    "    plt.scatter(*means.T, marker=\"+\")\n",
    "    for k in bandit.optimal_arms: plt.scatter(*means[k], label=\"%d\"%k, marker=\"+\")\n",
    "    plt.legend()\n",
    "print(\"[complexity]: \", bandit.H)\n",
    "print(\"[pareto set]: \", bandit.optimal_arms)"
   ]
  },
  {
   "cell_type": "code",
   "execution_count": 3,
   "outputs": [],
   "source": [
    "numrep = 50 # increase for better accuracy\n",
    "numtps = 15\n",
    "T_max = 2*int(bandit.H/2 +1) + 1\n",
    "seeds = (np.random.uniform(size=numrep)*2**31).astype(int)\n",
    "T_range = np.linspace(max(100, 2*K), T_max, numtps).astype(int)\n",
    "res_ = np.empty((numtps, numrep))"
   ],
   "metadata": {
    "collapsed": false,
    "ExecuteTime": {
     "end_time": "2024-02-29T22:10:22.126576Z",
     "start_time": "2024-02-29T22:10:22.120249Z"
    }
   }
  },
  {
   "cell_type": "code",
   "execution_count": null,
   "outputs": [],
   "source": [
    "res_ua = np.array(py_batch_ua(bandit, T_range, seeds))\n",
    "res_sh = np.array(py_batch_sh(bandit, T_range, seeds))\n",
    "res_sr = np.array(py_batch_sr(bandit, T_range, seeds, k=K))"
   ],
   "metadata": {
    "collapsed": false,
    "is_executing": true
   }
  },
  {
   "cell_type": "code",
   "execution_count": 2,
   "outputs": [
    {
     "data": {
      "text/plain": "44177.556687196615"
     },
     "execution_count": 2,
     "metadata": {},
     "output_type": "execute_result"
    }
   ],
   "source": [
    "bandit.H"
   ],
   "metadata": {
    "collapsed": false,
    "ExecuteTime": {
     "end_time": "2024-02-29T22:09:50.362217Z",
     "start_time": "2024-02-29T22:09:50.351553Z"
    }
   }
  },
  {
   "cell_type": "code",
   "execution_count": null,
   "outputs": [],
   "source": [
    "plt.xlabel(\"horizon\")\n",
    "plt.ylabel(r\"$e_T(\\nu)$\")\n",
    "x = T_range / H\n",
    "plt.plot(x, 1-res_sr, marker=\"P\", label=\"EGE-SR\")\n",
    "plt.plot(x, 1-res_sh, marker=\"*\", label=\"EGE-SH\")\n",
    "plt.plot(x, 1-res_ua, marker=\">\", label=\"UA\")\n",
    "plt.legend()"
   ],
   "metadata": {
    "collapsed": false
   }
  }
 ],
 "metadata": {
  "kernelspec": {
   "display_name": "Python 3",
   "language": "python",
   "name": "python3"
  },
  "language_info": {
   "codemirror_mode": {
    "name": "ipython",
    "version": 2
   },
   "file_extension": ".py",
   "mimetype": "text/x-python",
   "name": "python",
   "nbconvert_exporter": "python",
   "pygments_lexer": "ipython2",
   "version": "2.7.6"
  }
 },
 "nbformat": 4,
 "nbformat_minor": 0
}
