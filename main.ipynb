{
 "cells": [
  {
   "cell_type": "code",
   "execution_count": 1,
   "metadata": {
    "collapsed": true,
    "ExecuteTime": {
     "end_time": "2024-02-29T22:09:30.829827Z",
     "start_time": "2024-02-29T22:09:30.388394Z"
    }
   },
   "outputs": [
    {
     "name": "stdout",
     "output_type": "stream",
     "text": [
      "[complexity]:  44177.556687196615\n",
      "[pareto set]:  [0, 1, 2, 3, 4, 5, 6, 7, 8, 9, 10, 11, 12, 13, 14, 15, 16, 17, 18, 19] 20\n"
     ]
    },
    {
     "data": {
      "text/plain": "<Figure size 640x480 with 1 Axes>",
      "image/png": "[encoded data removed]"
     },
     "metadata": {},
     "output_type": "display_data"
    }
   ],
   "source": [
    "# coding=utf-8\n",
    "import numpy as np\n",
    "import pandas as pd\n",
    "from time import time\n",
    "import seaborn as sns\n",
    "import matplotlib.pyplot as plt\n",
    "from numpy.random import uniform\n",
    "from main import load\n",
    "from lib.bandits import Bernoulli, Gaussian\n",
    "from lib.policies import (py_ege_sr, py_ege_sh,\n",
    "                          py_ape_fb, py_ua,\n",
    "                          py_psi_ucbe, py_psi_ucbe_adapt,\n",
    "                          py_ape_b, py_ape_b_adapt,\n",
    "                          py_batch_ua, py_batch_sr,\n",
    "                          py_batch_sh, py_batch_ape,\n",
    "                          py_batch_ape_adapt)\n",
    "sns.set_style(\"white\")\n",
    "#K = 20\n",
    "#D = 2\n",
    "inf = 1e12\n",
    "#H = 1000\n",
    "H = 1e8\n",
    "stddev = np.array([0.70437039,  0.82845749])**0.5\n",
    "I = \"convex\"\n",
    "#while H>1e4:\n",
    "  #means = load(I)#np.load(\"test.npy\") #load(\"I1\")\n",
    "#np.random.uniform(size=(K, D)) #load(\"I5\")##\n",
    "  #bandit = Gaussian(means, stddev)\n",
    "  #bandit = Bernoulli(means)#\n",
    "  #H = bandit.H\n",
    "means = load(I) #[:, [0, 1]]#np.load(\"test.npy\") #load(\"I1\")\n",
    "#bandit = Gaussian(means, stddev)\n",
    "bandit = Bernoulli(means)#\n",
    "H = bandit.H\n",
    "K, D = means.shape\n",
    "if D==2:\n",
    "    plt.scatter(*means.T, marker=\"+\")\n",
    "    for k in bandit.optimal_arms:\n",
    "        plt.scatter(*means[k], label=\"%d\"%k, marker=\"+\")\n",
    "    plt.legend()\n",
    "print(\"[complexity]: \", bandit.H)\n",
    "print(\"[pareto set]: \", bandit.optimal_arms, len(bandit.optimal_arms))"
   ]
  },
  {
   "cell_type": "code",
   "execution_count": 3,
   "outputs": [],
   "source": [
    "numrep = 50 # increase for better accuracy\n",
    "numtps = 15\n",
    "T_max = 2*int(bandit.H/2 +1) + 1\n",
    "seeds = (np.random.uniform(size=numrep)*2**31).astype(int)\n",
    "T_range = np.linspace(max(100, 2*K), T_max, numtps).astype(int)\n",
    "res_ = np.empty((numtps, numrep))"
   ],
   "metadata": {
    "collapsed": false,
    "ExecuteTime": {
     "end_time": "2024-02-29T22:10:22.126576Z",
     "start_time": "2024-02-29T22:10:22.120249Z"
    }
   }
  },
  {
   "cell_type": "code",
   "execution_count": null,
   "outputs": [],
   "source": [
    "s = time()\n",
    "res_ua = np.array(py_batch_ua(bandit, T_range, seeds))\n",
    "res_sh = np.array(py_batch_sh(bandit, T_range, seeds))\n",
    "res_sr = np.array(py_batch_sr(bandit, T_range, seeds, k=K))\n",
    "cs = np.array([0.1, 1, 10])\n",
    "cs_labels = [\"1/10\", \"1\", \"10\"]\n",
    "res_ape = np.array([py_batch_ape(bandit, T_range, seeds, c*36/4) for c in cs])\n",
    "res_ape_adapt = np.array(py_batch_ape_adapt(bandit, T_range, seeds, c=1.*36/4))\n",
    "time() - s"
   ],
   "metadata": {
    "collapsed": false,
    "is_executing": true
   }
  },
  {
   "cell_type": "code",
   "execution_count": 2,
   "outputs": [
    {
     "data": {
      "text/plain": "44177.556687196615"
     },
     "execution_count": 2,
     "metadata": {},
     "output_type": "execute_result"
    }
   ],
   "source": [
    "bandit.H"
   ],
   "metadata": {
    "collapsed": false,
    "ExecuteTime": {
     "end_time": "2024-02-29T22:09:50.362217Z",
     "start_time": "2024-02-29T22:09:50.351553Z"
    }
   }
  },
  {
   "cell_type": "code",
   "execution_count": null,
   "outputs": [],
   "source": [
    "plt.xlabel(\"horizon\")\n",
    "plt.ylabel(r\"$e_T(\\nu)$\")\n",
    "x = T_range / H\n",
    "plt.plot(x, 1-res_sr, marker=\"P\", label=\"EGE-SR\")\n",
    "plt.plot(x, 1-res_sh, marker=\"*\", label=\"EGE-SH\")\n",
    "plt.plot(x, 1-res_ua, marker=\">\", label=\"UA\")\n",
    "for i in range(len(cs)):\n",
    "   plt.plot(x, 1-res_ape[i], marker=\"p\", label=f\"APE-B[c={cs_labels[i]}]\")\n",
    "   #plt.plot(x, 1-res_ape[i], marker=\"s\", label=f\"APE-B[c={cs[i]}]\")\n",
    "   #plt.plot(x, 1-res_ape[i], marker=\"<\", label=f\"APE-B[c={cs[i]}]\")\n",
    "plt.plot(x, 1-res_ape_adapt, marker=\"+\", label=\"APE-B-ADAPT\")\n",
    "plt.legend()\n",
    "#plt.savefig(f\"out/figs/{I}.pdf\", transparent=True)"
   ],
   "metadata": {
    "collapsed": false
   }
  }
 ],
 "metadata": {
  "kernelspec": {
   "display_name": "Python 3",
   "language": "python",
   "name": "python3"
  },
  "language_info": {
   "codemirror_mode": {
    "name": "ipython",
    "version": 2
   },
   "file_extension": ".py",
   "mimetype": "text/x-python",
   "name": "python",
   "nbconvert_exporter": "python",
   "pygments_lexer": "ipython2",
   "version": "2.7.6"
  }
 },
 "nbformat": 4,
 "nbformat_minor": 0
}
