{
 "cells": [
  {
   "cell_type": "code",
   "execution_count": null,
   "id": "28ff0e5b",
   "metadata": {
    "is_executing": true
   },
   "outputs": [],
   "source": [
    "import math\n",
    "from utils import *\n",
    "import seaborn as sns\n",
    "import matplotlib.pyplot as plt"
   ]
  },
  {
   "cell_type": "code",
   "execution_count": 11,
   "id": "4e6527da",
   "metadata": {
    "ExecuteTime": {
     "end_time": "2024-04-21T20:41:45.274594Z",
     "start_time": "2024-04-21T20:41:45.270151Z"
    }
   },
   "outputs": [],
   "source": [
    "#@title round-robin-like algorithm\n",
    "def round_robin(seed, T):\n",
    "    r\"\"\"\n",
    "    Round-Robin strategy\n",
    "    :param seed: Seeding the RNG\n",
    "    :param T: Budget of the algorithm\n",
    "    :return: [bool] indicates whether the true Pareto set has been identified\n",
    "    \"\"\"\n",
    "    np.random.seed(seed)\n",
    "    num_pulls = int(np.floor(T/K))\n",
    "    total = np.zeros((K, D))\n",
    "    Nc = np.zeros(K, dtype=int)\n",
    "    for a in arms:\n",
    "        total[a] += bandit.sample([a] * num_pulls).sum(0)\n",
    "        Nc[a] += num_pulls\n",
    "    remains = T - num_pulls*K\n",
    "    for _ in range(remains):\n",
    "        a = np.random.randint(K)\n",
    "        total[a] += bandit.sample(a).reshape(-1)\n",
    "        Nc[a] += 1\n",
    "    St_star_mask = is_non_dominated(total/Nc[:, None])\n",
    "    St_star = arms[St_star_mask]\n",
    "    return set(list(St_star))==set(S_star)"
   ]
  },
  {
   "cell_type": "code",
   "execution_count": 29,
   "id": "a5a764ee",
   "metadata": {
    "ExecuteTime": {
     "end_time": "2024-04-21T20:49:06.935985Z",
     "start_time": "2024-04-21T20:49:06.821880Z"
    }
   },
   "outputs": [
    {
     "name": "stdout",
     "output_type": "stream",
     "text": [
      "[pareto set]:  {2, 5, 7} \n",
      "[complexity H] = 353.83898684981915\n"
     ]
    },
    {
     "data": {
      "text/plain": "<Figure size 640x480 with 1 Axes>",
      "image/png": "[encoded data removed]"
     },
     "metadata": {},
     "output_type": "display_data"
    }
   ],
   "source": [
    "#@title Define a bandit instance\n",
    "K = 12\n",
    "D = 2\n",
    "inf = (1<<31)*1. \n",
    "arms = np.arange(K)\n",
    "while True:\n",
    "    try:\n",
    "        arms_means = np.random.uniform(0, 1, size=(K, D))\n",
    "        S_star_mask = is_non_dominated(arms_means)\n",
    "        S_star = set(S_star_mask.nonzero()[0])\n",
    "        S_star_comp = set((~S_star_mask).nonzero()[0])\n",
    "        Deltas = np.array([Delta_i(i, S_star, S_star_comp, arms_means) for i in range(K)]) \n",
    "        H = sum(1/Deltas**2)\n",
    "        if (H<1000): break # any condition\n",
    "    except Exception as e:\n",
    "        print(e, S_star)\n",
    "      #break \n",
    "      #continue\n",
    "bandit = BernoulliBandit(arms_means=arms_means)\n",
    "print(\"[pareto set]: \", S_star, \"\\n[complexity H] =\", H)\n",
    "if D==2:\n",
    "    plt.scatter(*arms_means.T, marker=\"+\")\n",
    "    for k in S_star: plt.scatter(*arms_means[k], label=\"%d\"%k, marker=\"+\"); plt.legend()"
   ]
  },
  {
   "cell_type": "markdown",
   "source": [
    "#### EGE-SR"
   ],
   "metadata": {
    "collapsed": false
   }
  },
  {
   "cell_type": "code",
   "execution_count": 30,
   "id": "1315d0a3",
   "metadata": {
    "ExecuteTime": {
     "end_time": "2024-04-21T20:49:08.873919Z",
     "start_time": "2024-04-21T20:49:08.870245Z"
    }
   },
   "outputs": [],
   "source": [
    "def ege_sr(seed, T):\n",
    "    r\"\"\"\n",
    "    Implements EGE SR\n",
    "    :param seed: Seeding the RNG\n",
    "    :param T: Budget of the algorithm\n",
    "    :return: [bool] indicates identification of the true Pareto set\n",
    "    \"\"\"\n",
    "    np.random.seed(seed)\n",
    "    # implementing the SR scheme [cf Audibert et al 2010]\n",
    "    log_K = 1/2 + np.sum(1 / np.arange(2, K + 1))\n",
    "    n_ks = np.ceil([0, *(1 / log_K) * (T - K) / (K + 1 - np.arange(1, K))]).astype(int)\n",
    "    total = np.zeros((K, D))\n",
    "    active = np.ones(K, bool)\n",
    "    means = np.empty((K,D), float)\n",
    "    Nc = np.zeros(K, dtype=int)\n",
    "    accepts  = []\n",
    "    rejects = []\n",
    "    for r in range(1, K):\n",
    "        num_pulls = n_ks[r] - n_ks[r - 1]\n",
    "        if num_pulls > 0:\n",
    "            for a in arms[active]:\n",
    "                total[a] += bandit.sample([a] * num_pulls).sum(0)\n",
    "                Nc[a] += num_pulls\n",
    "            means[active] = total[active] / Nc[active, None]\n",
    "        active_idx = arms[active]\n",
    "        Ik = np.eye(active.sum())\n",
    "        index_of = {v:k for k,v in enumerate(active_idx)}\n",
    "        g_i = lambda i : max(m(means[i], means[active]) - inf * Ik[index_of[i]])\n",
    "        f_i = lambda i :  min(min(M(means[i], means[active]) + inf * Ik[index_of[i]]), min([max(M(means[j], means[i]), 0) + max(g_i(j),0)  for j in active_idx] + inf * Ik[index_of[i]]))\n",
    "        rk, dk, ak = [None]*3\n",
    "        indices = [-np.inf, -np.inf]\n",
    "        dk = active_idx[np.argmax([g_i(i) for i in active_idx])]\n",
    "        indices[0] = g_i(dk)\n",
    "        ak = active_idx[np.argmax([f_i(i) for i in active_idx])]\n",
    "        indices[1] = f_i(ak)\n",
    "        # Implements the tie-breaking rule\n",
    "        if indices[0] >= indices[1]:\n",
    "            # remove an arm and classify as sub-optimal\n",
    "            rejects +=[dk]\n",
    "            rk = dk\n",
    "        else:\n",
    "            #accept an arm as optimal\n",
    "            accepts +=[ak]\n",
    "            rk = ak\n",
    "        active[rk] = False\n",
    "    accepts +=  [*arms[active]]\n",
    "    return set(accepts)==set(S_star)"
   ]
  },
  {
   "cell_type": "markdown",
   "source": [
    "#### EGE-SH"
   ],
   "metadata": {
    "collapsed": false
   }
  },
  {
   "cell_type": "code",
   "execution_count": 31,
   "id": "f998b71d",
   "metadata": {
    "ExecuteTime": {
     "end_time": "2024-04-21T20:49:10.045008Z",
     "start_time": "2024-04-21T20:49:10.043338Z"
    }
   },
   "outputs": [],
   "source": [
    "def ege_sh(seed, T):\n",
    "    r\"\"\"\n",
    "    Implements EGE-SH\n",
    "    :param seed: Seeding the RNG\n",
    "    :param T: Budget of the algorithm\n",
    "    :return: [bool] indicates identification of the true Pareto set\n",
    "    \"\"\"\n",
    "    np.random.seed(seed)\n",
    "    # defines a small constant to implement the tie Breaking rule\n",
    "    # the gaps of empirically sub-optimal arms are increased by c_0\n",
    "    c_0 = 1e-7\n",
    "    total = np.zeros((K, D))\n",
    "    active = np.ones(K, bool)\n",
    "    means = np.empty((K,D), float)\n",
    "    Nc = np.zeros(K, dtype=int)\n",
    "    accepts  = []\n",
    "    rejects = []\n",
    "    # implementing the SH scheme\n",
    "    ceil_log2_K = math.ceil(np.log2(K))\n",
    "    for k in range(ceil_log2_K):\n",
    "        num_pulls = math.floor(T / (sum(active) * ceil_log2_K))\n",
    "        if num_pulls > 0:\n",
    "            for a in arms[active]:\n",
    "                total[a] += bandit.sample([a] * num_pulls).sum(0)\n",
    "                Nc[a] += num_pulls\n",
    "            means[active] = total[active] / Nc[active, None]\n",
    "        active_idx = arms[active]\n",
    "        Sk_star_mask = is_non_dominated(means[active_idx])\n",
    "        Sk_star = active_idx[Sk_star_mask]\n",
    "        Sk_star_comp = active_idx[~Sk_star_mask]\n",
    "        Ik = np.eye(active.sum())\n",
    "        index_of = {v:k for k,v in enumerate(active_idx)}\n",
    "        g_i = lambda i : max(m(means[i], means[active]) - inf * Ik[index_of[i]])\n",
    "        f_i = lambda i :  min(min(M(means[i], means[active]) + inf * Ik[index_of[i]]), min([max(M(means[j], means[i]), 0) + max(g_i(j),0)  for j in active_idx ] + inf * Ik[index_of[i]]))\n",
    "        # compute empirical gaps\n",
    "        Delta_i = lambda i: f_i(i) if (Sk_star_mask[index_of[i]]) else (c_0+g_i(i))\n",
    "        num_arms_to_keep = math.ceil(len(active_idx) / 2)\n",
    "        # sort arms by their gaps\n",
    "        sorted_arms = np.argsort([-Delta_i(i) for i in active_idx])\n",
    "        arms_to_dismiss = active_idx[sorted_arms[:-num_arms_to_keep]]\n",
    "        # classify the dismissed arms\n",
    "        for a in arms_to_dismiss:\n",
    "            active[a] = False \n",
    "            if Sk_star_mask[index_of[a]]:\n",
    "                accepts += [a]\n",
    "            else:\n",
    "                rejects +=[a]\n",
    "    assert sum(active)==1, \"There should not be more than one active arm remaining\"\n",
    "    accepts += [*arms[active]]\n",
    "    return set(accepts)==set(S_star)"
   ]
  },
  {
   "cell_type": "markdown",
   "id": "c369139f",
   "metadata": {},
   "source": [
    "#### Numerical Experiment"
   ]
  },
  {
   "cell_type": "code",
   "execution_count": 34,
   "id": "511159c2",
   "metadata": {
    "ExecuteTime": {
     "end_time": "2024-04-21T20:49:31.956863Z",
     "start_time": "2024-04-21T20:49:31.947580Z"
    }
   },
   "outputs": [],
   "source": [
    "numrep = 500 # number of trials\n",
    "numtps = 10 # number of budgets\n",
    "T_max = 500 # max budget\n",
    "seeds = (np.random.uniform(size=numrep)*2**31).astype(int) # generate random seeds\n",
    "T_range = np.linspace(max(K, 100), T_max, numtps).astype(int) # generate budget ranges\n",
    "sns.set_style(\"ticks\")\n",
    "sns.set_context(\"paper\")\n",
    "sns.color_palette(\"viridis\");"
   ]
  },
  {
   "cell_type": "code",
   "execution_count": 33,
   "id": "08d6fcf7",
   "metadata": {
    "ExecuteTime": {
     "end_time": "2024-04-21T20:49:28.726898Z",
     "start_time": "2024-04-21T20:49:13.084430Z"
    }
   },
   "outputs": [],
   "source": [
    "res_ege_sr = np.array([run_batch_seeds(T, seeds, ege_sr) for T in T_range])\n",
    "res_ege_sh = np.array([run_batch_seeds(T, seeds, ege_sh) for T in T_range])\n",
    "res_robin =  np.array([run_batch_seeds(T, seeds, round_robin) for T in T_range])"
   ]
  },
  {
   "cell_type": "code",
   "execution_count": 35,
   "id": "d36952aa",
   "metadata": {
    "ExecuteTime": {
     "end_time": "2024-04-21T20:49:35.466175Z",
     "start_time": "2024-04-21T20:49:35.165572Z"
    }
   },
   "outputs": [
    {
     "data": {
      "text/plain": "<matplotlib.legend.Legend at 0x11d4382b0>"
     },
     "execution_count": 35,
     "metadata": {},
     "output_type": "execute_result"
    },
    {
     "data": {
      "text/plain": "<Figure size 500x400 with 1 Axes>",
      "image/png": "[encoded data removed]"
     },
     "metadata": {},
     "output_type": "display_data"
    }
   ],
   "source": [
    "f = plt.figure(figsize=(5, 4), layout='constrained')\n",
    "plt.plot(T_range, 1-res_ege_sr, label=\"EGE-SR\", marker=\"+\")\n",
    "plt.plot(T_range, 1-res_ege_sh, label=\"EGE-SH\", marker=\"+\")\n",
    "plt.plot(T_range, 1-res_robin, label=\"Round-Robin\", marker=\"+\")\n",
    "plt.xlabel(\"horizon T\")\n",
    "plt.ylabel(r\"empirical err. prob. \")\n",
    "plt.legend()"
   ]
  }
 ],
 "metadata": {
  "kernelspec": {
   "display_name": "Python 3 (ipykernel)",
   "language": "python",
   "name": "python3"
  },
  "language_info": {
   "codemirror_mode": {
    "name": "ipython",
    "version": 3
   },
   "file_extension": ".py",
   "mimetype": "text/x-python",
   "name": "python",
   "nbconvert_exporter": "python",
   "pygments_lexer": "ipython3",
   "version": "3.10.9"
  }
 },
 "nbformat": 4,
 "nbformat_minor": 5
}
